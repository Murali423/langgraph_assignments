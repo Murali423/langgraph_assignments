{
 "cells": [
  {
   "cell_type": "markdown",
   "metadata": {},
   "source": [
    "### Youtube Transscript generation "
   ]
  },
  {
   "cell_type": "code",
   "execution_count": 1,
   "metadata": {},
   "outputs": [
    {
     "data": {
      "text/plain": [
       "AIMessage(content='Hello! How can I assist you today?', additional_kwargs={}, response_metadata={'token_usage': {'completion_tokens': 10, 'prompt_tokens': 30, 'total_tokens': 40, 'completion_time': 0.05, 'prompt_time': 0.003782451, 'queue_time': 0.453042607, 'total_time': 0.053782451}, 'model_name': 'qwen-2.5-32b', 'system_fingerprint': 'fp_35f92f8282', 'finish_reason': 'stop', 'logprobs': None}, id='run-14a76a2b-46ae-493f-bab9-8ea7fc78106c-0', usage_metadata={'input_tokens': 30, 'output_tokens': 10, 'total_tokens': 40})"
      ]
     },
     "execution_count": 1,
     "metadata": {},
     "output_type": "execute_result"
    }
   ],
   "source": [
    "import os \n",
    "from dotenv import load_dotenv\n",
    "load_dotenv()\n",
    "\n",
    "os.environ[\"GROQ_API_KEY\"] = os.getenv(\"GROQ_API_KEY\")\n",
    "from langchain_groq import ChatGroq\n",
    "\n",
    "llm = ChatGroq(model=\"qwen-2.5-32b\")\n",
    "\n",
    "llm.invoke(\"hello\")"
   ]
  },
  {
   "cell_type": "code",
   "execution_count": 2,
   "metadata": {},
   "outputs": [],
   "source": [
    "from youtube_transcript_api import YouTubeTranscriptApi\n",
    "\n",
    "def get_youtube_transcript(video_id):\n",
    "    \"\"\"\n",
    "    Retrieves the transcript of a YouTube video.\n",
    "\n",
    "    Args:\n",
    "        video_id (str): The ID of the YouTube video.\n",
    "\n",
    "    Returns:\n",
    "        str: The transcript of the video, or None if an error occurs.\n",
    "    \"\"\"\n",
    "    try:\n",
    "        transcript_list = YouTubeTranscriptApi.get_transcript(video_id)\n",
    "        transcript = \" \".join([item['text'] for item in transcript_list])\n",
    "        return transcript\n",
    "    except YouTubeTranscriptApi.VideoUnavailable:\n",
    "        return \"Video unavailable or transcripts are disabled.\"\n",
    "    except YouTubeTranscriptApi.NoTranscriptFound:\n",
    "        return \"No transcript found for this video.\"\n",
    "    except Exception as e:\n",
    "        return f\"An error occurred: {e}\"\n",
    "\n",
    "def extract_video_id(youtube_url):\n",
    "    \"\"\"\n",
    "    Extracts the video ID from a YouTube URL.\n",
    "\n",
    "    Args:\n",
    "        youtube_url (str): The YouTube URL.\n",
    "\n",
    "    Returns:\n",
    "        str: The video ID, or None if it cannot be extracted.\n",
    "    \"\"\"\n",
    "    import re\n",
    "\n",
    "    video_id_match = re.search(r\"(?<=v=)[^&\\s]+\", youtube_url)\n",
    "    if video_id_match:\n",
    "        return video_id_match.group(0)\n",
    "\n",
    "    video_id_match = re.search(r\"(?<=be/)[^&\\s]+\", youtube_url)\n",
    "    if video_id_match:\n",
    "        return video_id_match.group(0)\n",
    "\n",
    "    return None"
   ]
  },
  {
   "cell_type": "code",
   "execution_count": 3,
   "metadata": {},
   "outputs": [],
   "source": [
    "from typing_extensions import TypedDict\n",
    "from langgraph.graph import StateGraph, START, END\n",
    "from IPython.display import display,Image\n",
    "\n",
    "class State(TypedDict):\n",
    "    video_url: str\n",
    "    transcript: str\n",
    "    blog: str\n",
    "    review: str\n",
    "    human_feedback: str"
   ]
  },
  {
   "cell_type": "code",
   "execution_count": 4,
   "metadata": {},
   "outputs": [],
   "source": [
    "def transcript_generation(state: State) -> State:\n",
    "    # Fetch transcript\n",
    "    Video_id = extract_video_id(state[\"video_url\"])\n",
    "    state[\"transcript\"] = get_youtube_transcript(Video_id)\n",
    "    return state"
   ]
  },
  {
   "cell_type": "code",
   "execution_count": 5,
   "metadata": {},
   "outputs": [],
   "source": [
    "def blog_generation(state: State) -> State:\n",
    "    if state.get(\"human_feedback\"):\n",
    "        state[\"blog\"] = llm.invoke(\n",
    "            f\"Generate a blog post for the transcript below:\\n{state['transcript']}\\n\"\n",
    "            f\"Consider the following feedback: {state['human_feedback']}\"\n",
    "        )\n",
    "    else:\n",
    "        state[\"blog\"] = llm.invoke(\n",
    "            f\"Generate a blog post for the transcript below:\\n{state['transcript']}\"\n",
    "        )\n",
    "    return state"
   ]
  },
  {
   "cell_type": "code",
   "execution_count": 6,
   "metadata": {},
   "outputs": [],
   "source": [
    "def review_generation(state: State) -> State:\n",
    "    # Generate review\n",
    "    state[\"review\"] = llm.invoke(f\"Generate a review for the blog post below:\\n{state['blog']}\")\n",
    "    return state"
   ]
  },
  {
   "cell_type": "code",
   "execution_count": 7,
   "metadata": {},
   "outputs": [],
   "source": [
    "from langgraph.checkpoint.memory import MemorySaver\n",
    "from langgraph.types import interrupt, Command\n",
    "def human_feedback1(state: State) -> State:\n",
    "    feedback = interrupt(\"Please provide your feedback:\")\n",
    "    return {\"human_feedback\": feedback}\n",
    "\n",
    "def should_continue(state: State) -> str:\n",
    "    if state.get(\"human_feedback\"):\n",
    "        return \"blogger\"\n",
    "    return END"
   ]
  },
  {
   "cell_type": "code",
   "execution_count": null,
   "metadata": {},
   "outputs": [],
   "source": []
  },
  {
   "cell_type": "code",
   "execution_count": 12,
   "metadata": {},
   "outputs": [],
   "source": [
    "builder = StateGraph(State)\n",
    "# Nodes\n",
    "builder.add_node(\"transcriptor\", transcript_generation)\n",
    "builder.add_node(\"blogger\", blog_generation)\n",
    "builder.add_node(\"reviewer\", review_generation)\n",
    "builder.add_node(\"human_analyst_feedback\", human_feedback1)\n",
    "# Edges\n",
    "builder.add_edge(START, \"transcriptor\")\n",
    "builder.add_edge(\"transcriptor\", \"blogger\")\n",
    "builder.add_edge(\"blogger\", \"reviewer\")\n",
    "builder.add_edge(\"reviewer\", \"human_analyst_feedback\")\n",
    "builder.add_conditional_edges(\"human_analyst_feedback\", should_continue, [\"blogger\", END])\n",
    "\n",
    "# Compile the workflow with an interrupt before 'human_analyst_feedback'\n",
    "workflow = builder.compile(interrupt_before=[\"human_analyst_feedback\"])"
   ]
  },
  {
   "cell_type": "code",
   "execution_count": 13,
   "metadata": {},
   "outputs": [
    {
     "data": {
      "image/png": "[encoded data removed]",
      "text/plain": [
       "<IPython.core.display.Image object>"
      ]
     },
     "metadata": {},
     "output_type": "display_data"
    }
   ],
   "source": [
    "display(Image(workflow.get_graph().draw_mermaid_png()))"
   ]
  },
  {
   "cell_type": "code",
   "execution_count": 14,
   "metadata": {},
   "outputs": [],
   "source": [
    "res = workflow.invoke({\"video_url\":\"https://www.youtube.com/watch?v=LKFuXETZUsI\"})"
   ]
  },
  {
   "cell_type": "code",
   "execution_count": 15,
   "metadata": {},
   "outputs": [
    {
     "data": {
      "text/plain": [
       "{'video_url': 'https://www.youtube.com/watch?v=LKFuXETZUsI',\n",
       " 'transcript': \"[Music] for Generations this peaceful island has been home to our families but beyond our Reef a great danger is coming Legend tells of a hero who will journey to find the demigod Maui and together they will save us all Lou [Applause] [Music] a boat Maui shap shifter demigod of the Wind and Sea I am hero of men what it's actually Maui Shape Shifter demigod of the Wind and Sea hero of men I interrupted from the top hero of men go I'm not going on a mission with some little girl this is my canoe and you will journey to different did not see that coming the ocean is a friend of mine first we've got to go through a whole ocean of bad kakamura coak what they're kind of cute [Applause] [Music] he got your back it's Maui time really blow dart in my butt cheek we're going to the realm of monsters don't worry it's a lot farther down than it looks I am still falling\",\n",
       " 'blog': AIMessage(content='### A Hero\\'s Journey: The Tale of Maui and His Unlikely Partner\\n\\nIn the heart of the Pacific Ocean, nestled between the azure waves and the golden sands, lies a tranquil island, a place that has been the cradle of many generations. However, beyond the serene horizon, a looming threat approaches, casting shadows over this idyllic paradise. Legend whispers of a hero, destined to embark on a quest that will determine the fate of their people. This hero is Maui, the demigod of the Wind and Sea, a shapeshifter of immense power and a hero of men. Yet, his journey takes an unexpected turn when he is joined by an unlikely partner.\\n\\nMaui, known for his exploits and celebrated as a hero, is initially reluctant to set sail on this perilous mission. The idea of teaming up with a mere \"little girl\" seems far from appealing, especially when the journey ahead promises no small amount of danger and hardship. However, as the old saying goes, \"you can\\'t fight fate,\" and Maui finds himself sailing the vast ocean in a canoe, the first step towards his destiny.\\n\\nThe ocean, a vast and mysterious entity, stands as a testament to Maui’s relationship with the sea. It is here that he faces his first challenge: the Kakamora, a group of mischievous banana stealth warriors. Although their appearance is somewhat comical, with their small stature and crude tactics, they pose a real threat to the duo. Maui, with his wit and agility, manages to outsmart these foes, turning every confrontation into a tale of triumph.\\n\\nAs the journey progresses, Maui and his young companion find themselves on the brink of the unknown, sailing towards the realm of monsters. The path is fraught with peril, and the skies darken with ominous clouds as they venture deeper into the heart of danger. Deep into their descent, Maui utters a line that captures the essence of their perilous journey: \"I am still falling.\"\\n\\nThis phrase is more than just a description of their physical descent; it symbolizes the depths of the unknown, the uncertainty of their mission, and the courage required to face the looming threat. Maui, with his hero\\'s mantle, finds himself in uncharted territory, both literally and figuratively. Yet, it is in these moments of uncertainty that true leadership and bravery are tested.\\n\\nThe journey of Maui and his partner is a testament to the power of unlikely alliances and the strength found in unity. As they face challenges that test the limits of their courage and resolve, their bond grows stronger. The legend of Maui, once a solitary figure, is about to be rewritten, and this time, he is not alone.\\n\\nThis story, filled with adventure, courage, and the unbreakable spirit of its protagonists, is a reminder that sometimes, the greatest heroes are made in the face of the greatest challenges. Maui\\'s journey is not just his; it is a tale that resonates with anyone who has ever faced their own personal monsoon, seeking to find the sun on the other side.', additional_kwargs={}, response_metadata={'token_usage': {'completion_tokens': 619, 'prompt_tokens': 243, 'total_tokens': 862, 'completion_time': 3.095, 'prompt_time': 0.013691544, 'queue_time': 0.24867276500000002, 'total_time': 3.108691544}, 'model_name': 'qwen-2.5-32b', 'system_fingerprint': 'fp_35f92f8282', 'finish_reason': 'stop', 'logprobs': None}, id='run-7fab3d82-cffe-43c7-b657-89e5574a5a32-0', usage_metadata={'input_tokens': 243, 'output_tokens': 619, 'total_tokens': 862}),\n",
       " 'review': AIMessage(content='The blog post \"A Hero\\'s Journey: The Tale of Maui and His Unlikely Partner\" weaves an engaging narrative that combines myth, adventure, and the timeless theme of unlikely alliances. Maui, a well-known figure with a rich history in Polynesian mythology, is reimagined in this story as a reluctant hero who is compelled to undertake a perilous quest to protect his homeland. The addition of an unexpected partner adds a fresh dimension to the narrative, highlighting the importance of teamwork and mutual respect.\\n\\nThe author skillfully uses vivid imagery to describe the setting, making the tranquil island and the vast ocean come alive. The introduction of the Kakamora, a band of banana stealth warriors, provides a light-hearted moment within the otherwise tense storyline, effectively balancing the tone and creating a memorable encounter.\\n\\nOne of the strongest elements of the post is the evolving relationship between Maui and his companion. As they face trials and tribulations together, their bond deepens, showing that strength isn\\'t just in individual prowess but also in the unity and trust between partners. The phrase \"I am still falling\" serves as a poignant metaphor for the journey ahead, embodying the spirit of perseverance and courage in the face of the unknown.\\n\\nThe post concludes with a powerful message about the nature of heroism, emphasizing that true heroism is often born from the need to overcome insurmountable odds. This blog post is a delightful read for those who appreciate tales of adventure and self-discovery, blending traditional myth with contemporary storytelling techniques to create a compelling narrative.', additional_kwargs={}, response_metadata={'token_usage': {'completion_tokens': 311, 'prompt_tokens': 896, 'total_tokens': 1207, 'completion_time': 1.5550000000000002, 'prompt_time': 0.044634998, 'queue_time': 0.237477305, 'total_time': 1.599634998}, 'model_name': 'qwen-2.5-32b', 'system_fingerprint': 'fp_35f92f8282', 'finish_reason': 'stop', 'logprobs': None}, id='run-2050edef-40b3-4a5b-9cfc-5c332b71eafc-0', usage_metadata={'input_tokens': 896, 'output_tokens': 311, 'total_tokens': 1207})}"
      ]
     },
     "execution_count": 15,
     "metadata": {},
     "output_type": "execute_result"
    }
   ],
   "source": [
    "res"
   ]
  },
  {
   "cell_type": "code",
   "execution_count": null,
   "metadata": {},
   "outputs": [],
   "source": []
  }
 ],
 "metadata": {
  "kernelspec": {
   "display_name": "Python 3",
   "language": "python",
   "name": "python3"
  },
  "language_info": {
   "codemirror_mode": {
    "name": "ipython",
    "version": 3
   },
   "file_extension": ".py",
   "mimetype": "text/x-python",
   "name": "python",
   "nbconvert_exporter": "python",
   "pygments_lexer": "ipython3",
   "version": "3.12.0"
  }
 },
 "nbformat": 4,
 "nbformat_minor": 2
}
