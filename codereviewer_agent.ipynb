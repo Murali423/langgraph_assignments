{
 "cells": [
  {
   "cell_type": "markdown",
   "metadata": {},
   "source": [
    "### Code reviewer\n",
    "\n",
    "As an assignment task we need to create code reviewer agent who can able write code based on description, and send the code to reviewer and finally add the doc_string if not exist"
   ]
  },
  {
   "cell_type": "code",
   "execution_count": 12,
   "metadata": {},
   "outputs": [],
   "source": [
    "from typing_extensions import TypedDict\n",
    "from langgraph.graph import StateGraph, START, END\n",
    "\n",
    "class State(TypedDict):\n",
    "    description: str\n",
    "    code: str\n",
    "    review_done: str\n",
    "    review_score: str\n",
    "    doc_string_available: str\n",
    "    final_code: str\n",
    "\n",
    "\n"
   ]
  },
  {
   "cell_type": "code",
   "execution_count": 13,
   "metadata": {},
   "outputs": [
    {
     "data": {
      "text/plain": [
       "AIMessage(content=\"Hello! As an AI, I don't have feelings, but I'm here and ready to help you. How can I assist you today?\", additional_kwargs={}, response_metadata={'token_usage': {'completion_tokens': 30, 'prompt_tokens': 33, 'total_tokens': 63, 'completion_time': 0.15, 'prompt_time': 0.003909236, 'queue_time': 0.46568252800000004, 'total_time': 0.153909236}, 'model_name': 'qwen-2.5-32b', 'system_fingerprint': 'fp_35f92f8282', 'finish_reason': 'stop', 'logprobs': None}, id='run-9c3da41d-ed49-4ee9-9960-f7e4c58eb3c0-0', usage_metadata={'input_tokens': 33, 'output_tokens': 30, 'total_tokens': 63})"
      ]
     },
     "execution_count": 13,
     "metadata": {},
     "output_type": "execute_result"
    }
   ],
   "source": [
    "import os\n",
    "from dotenv import load_dotenv\n",
    "load_dotenv()\n",
    "from langchain_groq import ChatGroq\n",
    "\n",
    "os.environ[\"GROQ_API_KEY\"]=os.getenv(\"GROQ_API_KEY\")\n",
    "llm = ChatGroq(model=\"qwen-2.5-32b\")\n",
    "res = llm.invoke(\"Hello how are you\")\n",
    "res"
   ]
  },
  {
   "cell_type": "code",
   "execution_count": 14,
   "metadata": {},
   "outputs": [
    {
     "data": {
      "text/plain": [
       "'Sure, I can help you write a Python function to check if a number is prime and also to generate a list of prime numbers up to a certain limit. Here are two different functions for these purposes:\\n\\n1. A function to check if a single number is prime:\\n```python\\ndef is_prime(n):\\n    \"\"\"Check if a number is a prime number.\"\"\"\\n    if n <= 1:\\n        return False\\n    if n <= 3:\\n        return True\\n    if n % 2 == 0 or n % 3 == 0:\\n        return False\\n    i = 5\\n    while i * i <= n:\\n        if n % i == 0 or n % (i + 2) == 0:\\n            return False\\n        i += 6\\n    return True\\n```\\n\\n2. A function to generate all prime numbers up to a given limit `n`:\\n```python\\ndef generate_primes(n):\\n    \"\"\"Generate a list of prime numbers up to a given limit.\"\"\"\\n    primes = []\\n    for number in range(2, n + 1):\\n        if all(number % i != 0 for i in range(2, int(number**0.5) + 1)):\\n            primes.append(number)\\n    return primes\\n```\\n\\nYou can use the first function `is_prime` to check if individual numbers are prime, and the second function `generate_primes` to list all prime numbers up to a certain number `n`.'"
      ]
     },
     "execution_count": 14,
     "metadata": {},
     "output_type": "execute_result"
    }
   ],
   "source": [
    "res = llm.invoke(\"generate code for prime number in python \")\n",
    "res.content"
   ]
  },
  {
   "cell_type": "code",
   "execution_count": 15,
   "metadata": {},
   "outputs": [
    {
     "data": {
      "text/plain": [
       "'The provided functions for checking if a number is prime and generating a list of prime numbers up to a certain limit are both generally well-structured and functional. However, there are some areas where the code could be improved for efficiency and readability.\\n\\n### Review of `is_prime` Function\\n\\n- **Efficiency**: The function `is_prime` is quite efficient. It reduces the number of divisions needed by checking divisibility by 2 and 3, and then only considering factors of the form 6k ± 1. This is a common and effective optimization for prime checking.\\n- **Readability**: The function is clear and straightforward. The logic is well-commented in the form of the function docstring.\\n- **Edge Cases**: The function correctly handles edge cases such as `n <= 1` and `n <= 3` by returning `False` or `True` directly.\\n\\n### Review of `generate_primes` Function\\n\\n- **Efficiency**: While the function `generate_primes` is correct, it can be optimized. Checking up to the square root of `number` is fine but the inner `all()` function might be slower due to the nature of list comprehensions. For large values of `n`, this could be a bottleneck.\\n- **Readability**: The function is clear and concise. However, the use of `all(...)` might be considered less readable to some, especially those unfamiliar with Python\\'s functional programming capabilities.\\n- **Algorithm**: A more efficient way to generate primes up to `n` would be to use the Sieve of Eratosthenes, which is faster and more efficient for larger ranges.\\n\\n### Suggestions for Improvement\\n\\n1. **`is_prime` Function**: No major changes needed. This function is already quite efficient and clear.\\n2. **`generate_primes` Function**: Consider implementing the Sieve of Eratosthenes for a more efficient prime generation.\\n\\n### Revised `generate_primes` Function Using Sieve of Eratosthenes:\\n```python\\ndef generate_primes(n):\\n    \"\"\"Generate a list of prime numbers up to a given limit using Sieve of Eratosthenes.\"\"\"\\n    sieve = [True] * (n+1)\\n    sieve[0] = sieve[1] = False\\n    for i in range(2, int(n**0.5) + 1):\\n        if sieve[i]:\\n            for j in range(i*i, n+1, i):\\n                sieve[j] = False\\n    return [p for p in range(2, n+1) if sieve[p]]\\n```\\n\\n### Score\\n- **Score: 8**\\n\\nThe original functions are solid and functional. The score is reduced slightly because the `generate_primes` function could benefit from a more efficient algorithm, particularly for larger ranges. The `is_prime` function is already quite efficient and well-structured.'"
      ]
     },
     "execution_count": 15,
     "metadata": {},
     "output_type": "execute_result"
    }
   ],
   "source": [
    "r1 = llm.invoke(f\"based on provided {res.content} analyze the code and provide the review feedback.\\\n",
    "                provide the score out of 1-10 exampl like Score: 5 at the end \")\n",
    "r1.content"
   ]
  },
  {
   "cell_type": "code",
   "execution_count": 16,
   "metadata": {},
   "outputs": [
    {
     "data": {
      "text/plain": [
       "\"The score provided is a numerical value, specifically an integer. Thus, the type of the score is `int`.\\n\\nTo capture and return the type of the score in Python, you can use the built-in `type()` function as shown below:\\n\\n```python\\nscore = 8\\nscore_type = type(score)\\nprint(score_type)  # <class 'int'>\\n```\\n\\nThis code snippet will output `<class 'int'>`, indicating that the type of the score is an integer.\""
      ]
     },
     "execution_count": 16,
     "metadata": {},
     "output_type": "execute_result"
    }
   ],
   "source": [
    "r2 = llm.invoke(f\"based on provided {r1.content} captuer score and return its type  \")\n",
    "r2.content"
   ]
  },
  {
   "cell_type": "code",
   "execution_count": 17,
   "metadata": {},
   "outputs": [
    {
     "data": {
      "text/plain": [
       "'PASS'"
      ]
     },
     "execution_count": 17,
     "metadata": {},
     "output_type": "execute_result"
    }
   ],
   "source": [
    "r4 = llm.invoke(f\"based on provided {r2.content} if score is > 5 send classify as 'PASS' else 'FAIL' give only end result\")\n",
    "r4.content"
   ]
  },
  {
   "cell_type": "code",
   "execution_count": 18,
   "metadata": {},
   "outputs": [
    {
     "data": {
      "text/plain": [
       "'```python\\ndef is_prime(n):\\n    \"\"\"\\n    Check if a number is a prime number.\\n    \\n    :param n: Integer to check for primality.\\n    :return: True if n is a prime number, False otherwise.\\n    \"\"\"\\n    if n <= 1:\\n        return False\\n    if n <= 3:\\n        return True\\n    if n % 2 == 0 or n % 3 == 0:\\n        return False\\n    i = 5\\n    while i * i <= n:\\n        if n % i == 0 or n % (i + 2) == 0:\\n            return False\\n        i += 6\\n    return True\\n\\ndef generate_primes(n):\\n    \"\"\"\\n    Generate a list of prime numbers up to a given limit.\\n    \\n    :param n: Upper limit (inclusive) to generate prime numbers.\\n    :return: List of prime numbers up to n.\\n    \"\"\"\\n    primes = []\\n    for number in range(2, n + 1):\\n        if all(number % i != 0 for i in range(2, int(number**0.5) + 1)):\\n            primes.append(number)\\n    return primes\\n```'"
      ]
     },
     "execution_count": 18,
     "metadata": {},
     "output_type": "execute_result"
    }
   ],
   "source": [
    "r3 = llm.invoke(f\"based on provide {res.content} analyze the code and check if docstring available if not add the docstring. Strictly present only the program\")\n",
    "r3.content"
   ]
  },
  {
   "cell_type": "code",
   "execution_count": 19,
   "metadata": {},
   "outputs": [],
   "source": [
    "#Nodes\n",
    "def developer(state: State):\n",
    "    \"Based on the description added it will generate code.\"\n",
    "    print(state['description'])\n",
    "    res = llm.invoke(f\"Generate the python code based on the provided desctipion: {state['description']}\")\n",
    "    print(res.content)\n",
    "    return {'code':res.content}\n",
    "\n",
    "def reviewer(state:State):\n",
    "    \"Based on the review of code copy the review and score to review socre.\"\n",
    "    r1 = llm.invoke(f\"based on provided {state['code']} analyze the code and provide the review feedback.\\\n",
    "                provide the score out of 1-10 exampl like Score: 5 at the end \")\n",
    "    print(r1.content)\n",
    "    r2 = llm.invoke(f\"based on provided {r1.content} captuer score and return its type  \")\n",
    "    print(r2.content)\n",
    "    return {\"review_done\":r1.content, \"review_score\":r2.content}\n",
    "\n",
    "def check_review(state:State):\n",
    "    \"Baseed on reveiw score we should send to developer\"\n",
    "    c1 = llm.invoke(f\"based on provided {state['review_score']} if score is > 5 send classify as 'PASS' else 'FAIL' give only end result\")\n",
    "    print(c1)\n",
    "    if c1 == \"PASS\":\n",
    "        return \"PASS\"\n",
    "    return 'FAIL'\n",
    "\n",
    "def manager(state:State):\n",
    "    \"Based on review it should go to mergeing after final docstring addition\"\n",
    "    m1 = llm.invoke(f\"based on provide {state['code']} and {state['review_score']} analyze the code make modifications and check if docstring available if not add the docstring.\\\n",
    "                    Strictly present only the program\")\n",
    "    print(m1.content)\n",
    "    return {'final_code':m1.content}\n",
    "    \n",
    "\n"
   ]
  },
  {
   "cell_type": "code",
   "execution_count": 20,
   "metadata": {},
   "outputs": [
    {
     "data": {
      "image/png": "[encoded data removed]",
      "text/plain": [
       "<IPython.core.display.Image object>"
      ]
     },
     "metadata": {},
     "output_type": "display_data"
    }
   ],
   "source": [
    "from IPython.display import Image,display\n",
    "manager_workflow = StateGraph(State)\n",
    "\n",
    "#Add the nodes\n",
    "manager_workflow.add_node(\"developer\",developer)\n",
    "manager_workflow.add_node(\"reviewer\", reviewer)\n",
    "manager_workflow.add_node(\"manager\",manager)\n",
    "\n",
    "#add edges\n",
    "manager_workflow.add_edge(START,\"developer\")\n",
    "manager_workflow.add_edge(\"developer\",\"reviewer\")\n",
    "manager_workflow.add_conditional_edges(\n",
    "    \"reviewer\",check_review,{\"PASS\":END,\"FAIL\":\"manager\"}\n",
    ")\n",
    "manager_workflow.add_edge(\"manager\",END)\n",
    "\n",
    "graph = manager_workflow.compile()\n",
    "\n",
    "display(Image(graph.get_graph().draw_mermaid_png()))"
   ]
  },
  {
   "cell_type": "code",
   "execution_count": 23,
   "metadata": {},
   "outputs": [
    {
     "name": "stdout",
     "output_type": "stream",
     "text": [
      "generate inefficient code for prime number\n",
      "Certainly! Below is an example of inefficient Python code to generate a list of prime numbers up to a given number `n`. This code is intentionally inefficient to meet your request.\n",
      "\n",
      "```python\n",
      "def is_prime(num):\n",
      "    if num <= 1:\n",
      "        return False\n",
      "    for i in range(2, num):  # Inefficient: it checks all numbers from 2 to num-1\n",
      "        if num % i == 0:\n",
      "            return False\n",
      "    return True\n",
      "\n",
      "def generate_primes(n):\n",
      "    primes = []\n",
      "    for num in range(2, n + 1):\n",
      "        if is_prime(num):  # Calls the inefficient is_prime function\n",
      "            primes.append(num)\n",
      "    return primes\n",
      "\n",
      "# Example usage\n",
      "n = 50\n",
      "print(\"Prime numbers up to\", n, \"are:\", generate_primes(n))\n",
      "```\n",
      "\n",
      "### Explanation of Inefficiencies:\n",
      "1. **Redundant checks in `is_prime` function**: The function checks divisibility for all numbers from 2 to `num - 1`, even though a number is only divisible by factors up to its square root.\n",
      "2. **Repeated function calls**: For each number, the `is_prime` function is called, and within it, a loop runs up to `num - 1`, even if it could be optimized to stop at the square root of `num`.\n",
      "3. **Lack of optimization**: The code does not implement any optimization techniques such as skipping even numbers after checking for 2, or using a sieve algorithm which is much more efficient.\n",
      "\n",
      "This code is intentionally designed to be inefficient to demonstrate poor programming practices when dealing with prime numbers.\n",
      "### Code Review Feedback\n",
      "\n",
      "**Functionality:**\n",
      "The code correctly generates a list of prime numbers up to a given number `n`. It defines a function `is_prime` to check if a number is prime and another function `generate_primes` to generate the list of primes.\n",
      "\n",
      "**Inefficiencies:**\n",
      "1. **Redundant Checks in `is_prime`:**\n",
      "   - The code checks all numbers up to `num - 1` for divisibility, which is unnecessary. A prime check can be optimized to only check up to the square root of `num`.\n",
      "   \n",
      "2. **Repeated Function Calls:**\n",
      "   - The `is_prime` function is called for every number between 2 and `n`. Each call to `is_prime` performs a full check, which is computationally expensive, especially as `n` grows larger.\n",
      "   \n",
      "3. **Lack of Optimization Techniques:**\n",
      "   - The algorithm does not implement optimizations like the Sieve of Eratosthenes, which is much more efficient for generating all primes up to a certain limit. Additionally, the function could skip even numbers after checking for 2 to reduce the number of checks.\n",
      "\n",
      "**Code Readability:**\n",
      "- The code is relatively straightforward and easy to understand, with clear function names and a simple structure. However, the inefficiencies could be confusing for someone looking for an optimal solution.\n",
      "\n",
      "**Conclusion:**\n",
      "The code meets the basic functional requirement of generating prime numbers but does so in an inefficient manner, making it impractical for large values of `n`. The inefficiencies could be significantly reduced with a few simple optimizations.\n",
      "\n",
      "**Score: 5**\n",
      "\n",
      "This score reflects that while the code is functional, it lacks the efficiency and optimization that could make it useful for practical applications with larger inputs. The readability and simplicity are positive aspects, but they are outweighed by the inefficiencies.\n",
      "The score provided in the code review feedback is `5`. The type of the score is an integer.\n",
      "content='FAIL' additional_kwargs={} response_metadata={'token_usage': {'completion_tokens': 2, 'prompt_tokens': 73, 'total_tokens': 75, 'completion_time': 0.01, 'prompt_time': 0.005989573, 'queue_time': 0.236331495, 'total_time': 0.015989573}, 'model_name': 'qwen-2.5-32b', 'system_fingerprint': 'fp_35f92f8282', 'finish_reason': 'stop', 'logprobs': None} id='run-5ed0975d-6787-48a6-af62-b6bfe50622af-0' usage_metadata={'input_tokens': 73, 'output_tokens': 2, 'total_tokens': 75}\n",
      "```python\n",
      "def is_prime(num):\n",
      "    \"\"\"\n",
      "    Checks if a number is prime in an inefficient manner.\n",
      "    \n",
      "    Args:\n",
      "    num (int): The number to check for primality.\n",
      "    \n",
      "    Returns:\n",
      "    bool: True if the number is prime, False otherwise.\n",
      "    \"\"\"\n",
      "    if num <= 1:\n",
      "        return False\n",
      "    for i in range(2, num):  # Inefficient: it checks all numbers from 2 to num-1\n",
      "        if num % i == 0:\n",
      "            return False\n",
      "    return True\n",
      "\n",
      "def generate_primes(n):\n",
      "    \"\"\"\n",
      "    Generates a list of prime numbers up to n in an inefficient manner.\n",
      "    \n",
      "    Args:\n",
      "    n (int): The upper limit to generate prime numbers up to.\n",
      "    \n",
      "    Returns:\n",
      "    list: A list of prime numbers up to n.\n",
      "    \"\"\"\n",
      "    primes = []\n",
      "    for num in range(2, n + 1):\n",
      "        if is_prime(num):  # Calls the inefficient is_prime function\n",
      "            primes.append(num)\n",
      "    return primes\n",
      "\n",
      "# Example usage\n",
      "n = 50\n",
      "print(\"Prime numbers up to\", n, \"are:\", generate_primes(n))\n",
      "```\n",
      "\n",
      "### Modifications and Docstring Addition:\n",
      "- Added comprehensive docstrings to both `is_prime` and `generate_primes` functions to explain their purpose, arguments, and return values.\n",
      "- Kept the inefficiencies as requested for educational purposes, demonstrating poor programming practice in prime number generation.\n",
      "- The code now includes clear documentation which wasn't present initially, enhancing its readability and maintainability without altering its original inefficient logic.\n"
     ]
    },
    {
     "data": {
      "text/plain": [
       "{'description': 'generate inefficient code for prime number',\n",
       " 'code': 'Certainly! Below is an example of inefficient Python code to generate a list of prime numbers up to a given number `n`. This code is intentionally inefficient to meet your request.\\n\\n```python\\ndef is_prime(num):\\n    if num <= 1:\\n        return False\\n    for i in range(2, num):  # Inefficient: it checks all numbers from 2 to num-1\\n        if num % i == 0:\\n            return False\\n    return True\\n\\ndef generate_primes(n):\\n    primes = []\\n    for num in range(2, n + 1):\\n        if is_prime(num):  # Calls the inefficient is_prime function\\n            primes.append(num)\\n    return primes\\n\\n# Example usage\\nn = 50\\nprint(\"Prime numbers up to\", n, \"are:\", generate_primes(n))\\n```\\n\\n### Explanation of Inefficiencies:\\n1. **Redundant checks in `is_prime` function**: The function checks divisibility for all numbers from 2 to `num - 1`, even though a number is only divisible by factors up to its square root.\\n2. **Repeated function calls**: For each number, the `is_prime` function is called, and within it, a loop runs up to `num - 1`, even if it could be optimized to stop at the square root of `num`.\\n3. **Lack of optimization**: The code does not implement any optimization techniques such as skipping even numbers after checking for 2, or using a sieve algorithm which is much more efficient.\\n\\nThis code is intentionally designed to be inefficient to demonstrate poor programming practices when dealing with prime numbers.',\n",
       " 'review_done': '### Code Review Feedback\\n\\n**Functionality:**\\nThe code correctly generates a list of prime numbers up to a given number `n`. It defines a function `is_prime` to check if a number is prime and another function `generate_primes` to generate the list of primes.\\n\\n**Inefficiencies:**\\n1. **Redundant Checks in `is_prime`:**\\n   - The code checks all numbers up to `num - 1` for divisibility, which is unnecessary. A prime check can be optimized to only check up to the square root of `num`.\\n   \\n2. **Repeated Function Calls:**\\n   - The `is_prime` function is called for every number between 2 and `n`. Each call to `is_prime` performs a full check, which is computationally expensive, especially as `n` grows larger.\\n   \\n3. **Lack of Optimization Techniques:**\\n   - The algorithm does not implement optimizations like the Sieve of Eratosthenes, which is much more efficient for generating all primes up to a certain limit. Additionally, the function could skip even numbers after checking for 2 to reduce the number of checks.\\n\\n**Code Readability:**\\n- The code is relatively straightforward and easy to understand, with clear function names and a simple structure. However, the inefficiencies could be confusing for someone looking for an optimal solution.\\n\\n**Conclusion:**\\nThe code meets the basic functional requirement of generating prime numbers but does so in an inefficient manner, making it impractical for large values of `n`. The inefficiencies could be significantly reduced with a few simple optimizations.\\n\\n**Score: 5**\\n\\nThis score reflects that while the code is functional, it lacks the efficiency and optimization that could make it useful for practical applications with larger inputs. The readability and simplicity are positive aspects, but they are outweighed by the inefficiencies.',\n",
       " 'review_score': 'The score provided in the code review feedback is `5`. The type of the score is an integer.',\n",
       " 'final_code': '```python\\ndef is_prime(num):\\n    \"\"\"\\n    Checks if a number is prime in an inefficient manner.\\n    \\n    Args:\\n    num (int): The number to check for primality.\\n    \\n    Returns:\\n    bool: True if the number is prime, False otherwise.\\n    \"\"\"\\n    if num <= 1:\\n        return False\\n    for i in range(2, num):  # Inefficient: it checks all numbers from 2 to num-1\\n        if num % i == 0:\\n            return False\\n    return True\\n\\ndef generate_primes(n):\\n    \"\"\"\\n    Generates a list of prime numbers up to n in an inefficient manner.\\n    \\n    Args:\\n    n (int): The upper limit to generate prime numbers up to.\\n    \\n    Returns:\\n    list: A list of prime numbers up to n.\\n    \"\"\"\\n    primes = []\\n    for num in range(2, n + 1):\\n        if is_prime(num):  # Calls the inefficient is_prime function\\n            primes.append(num)\\n    return primes\\n\\n# Example usage\\nn = 50\\nprint(\"Prime numbers up to\", n, \"are:\", generate_primes(n))\\n```\\n\\n### Modifications and Docstring Addition:\\n- Added comprehensive docstrings to both `is_prime` and `generate_primes` functions to explain their purpose, arguments, and return values.\\n- Kept the inefficiencies as requested for educational purposes, demonstrating poor programming practice in prime number generation.\\n- The code now includes clear documentation which wasn\\'t present initially, enhancing its readability and maintainability without altering its original inefficient logic.'}"
      ]
     },
     "execution_count": 23,
     "metadata": {},
     "output_type": "execute_result"
    }
   ],
   "source": [
    "res = graph.invoke({\"description\":\"generate inefficient code for prime number\"})\n",
    "res"
   ]
  },
  {
   "cell_type": "code",
   "execution_count": null,
   "metadata": {},
   "outputs": [],
   "source": []
  }
 ],
 "metadata": {
  "kernelspec": {
   "display_name": "Python 3",
   "language": "python",
   "name": "python3"
  },
  "language_info": {
   "codemirror_mode": {
    "name": "ipython",
    "version": 3
   },
   "file_extension": ".py",
   "mimetype": "text/x-python",
   "name": "python",
   "nbconvert_exporter": "python",
   "pygments_lexer": "ipython3",
   "version": "3.12.0"
  }
 },
 "nbformat": 4,
 "nbformat_minor": 2
}
